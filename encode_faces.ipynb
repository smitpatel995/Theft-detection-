{
 "cells": [
  {
   "cell_type": "code",
   "execution_count": 1,
   "id": "61d55c20-ffcb-455b-9dc4-0321a8c2c2c5",
   "metadata": {},
   "outputs": [
    {
     "name": "stdout",
     "output_type": "stream",
     "text": [
      "[✓] Encoded: Smit.jpg\n",
      "\n",
      "✅ Successfully saved 1 face encodings to 'encodings.pkl'\n"
     ]
    }
   ],
   "source": [
    "import face_recognition\n",
    "import os\n",
    "import pickle\n",
    "\n",
    "KNOWN_FACES_DIR = \"known_faces\"\n",
    "ENCODINGS_FILE = \"encodings.pkl\"\n",
    "\n",
    "known_face_encodings = []\n",
    "known_face_names = []\n",
    "\n",
    "# Loop through image files and encode\n",
    "for filename in os.listdir(KNOWN_FACES_DIR):\n",
    "    if filename.endswith(\".jpg\") or filename.endswith(\".png\"):\n",
    "        filepath = os.path.join(KNOWN_FACES_DIR, filename)\n",
    "        image = face_recognition.load_image_file(filepath)\n",
    "        encodings = face_recognition.face_encodings(image)\n",
    "\n",
    "        if encodings:\n",
    "            known_face_encodings.append(encodings[0])\n",
    "            known_face_names.append(os.path.splitext(filename)[0])\n",
    "            print(f\"[✓] Encoded: {filename}\")\n",
    "        else:\n",
    "            print(f\"[✗] No face found in: {filename}\")\n",
    "\n",
    "# Save to file\n",
    "with open(ENCODINGS_FILE, \"wb\") as f:\n",
    "    pickle.dump({\n",
    "        \"encodings\": known_face_encodings,\n",
    "        \"names\": known_face_names\n",
    "    }, f)\n",
    "\n",
    "print(f\"\\n✅ Successfully saved {len(known_face_encodings)} face encodings to '{ENCODINGS_FILE}'\")\n"
   ]
  },
  {
   "cell_type": "code",
   "execution_count": null,
   "id": "a96cd20d-63f4-487f-b515-32b1de18dcb3",
   "metadata": {},
   "outputs": [],
   "source": []
  }
 ],
 "metadata": {
  "kernelspec": {
   "display_name": "Python 3 (ipykernel)",
   "language": "python",
   "name": "python3"
  },
  "language_info": {
   "codemirror_mode": {
    "name": "ipython",
    "version": 3
   },
   "file_extension": ".py",
   "mimetype": "text/x-python",
   "name": "python",
   "nbconvert_exporter": "python",
   "pygments_lexer": "ipython3",
   "version": "3.12.11"
  }
 },
 "nbformat": 4,
 "nbformat_minor": 5
}
